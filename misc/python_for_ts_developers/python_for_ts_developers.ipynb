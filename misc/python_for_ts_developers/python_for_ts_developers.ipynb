{
 "cells": [
  {
   "cell_type": "markdown",
   "metadata": {},
   "source": [
    "# Python for TS developers\n",
    "\n",
    "The main presentation is in Notion\n",
    "\n",
    "<https://www.notion.so/trawa/Python-for-TS-developers-8086ad68c0a54f219a6a2f9c0bbbd836>"
   ]
  },
  {
   "cell_type": "code",
   "execution_count": null,
   "metadata": {},
   "outputs": [],
   "source": [
    "import pandas as pd\n",
    "import seaborn as sns\n",
    "import matplotlib.pyplot as plt\n",
    "\n",
    "df = pd.read_csv('./all_rows_should_be_15_min_apart_results.csv')\n",
    "df.head()"
   ]
  },
  {
   "cell_type": "code",
   "execution_count": null,
   "metadata": {},
   "outputs": [],
   "source": [
    "\n",
    "\n",
    "sns.lineplot(data=df, x='timestamp_start', y='missing_entries', hue='volume_curve_id')\n",
    "plt.legend(loc='upper center', bbox_to_anchor=(0.5, -0.05), ncol=3)\n",
    "\n",
    "plt.show()"
   ]
  },
  {
   "cell_type": "code",
   "execution_count": null,
   "metadata": {},
   "outputs": [],
   "source": [
    "def add_missing_family_member(they: list[str] = [\"marge\", \"homer\"]):\n",
    "    if len(they) < 4:\n",
    "        they.append(\"lisa\")\n",
    "    return they\n",
    "\n",
    "print(add_missing_family_member())\n",
    "print(add_missing_family_member())\n"
   ]
  },
  {
   "cell_type": "markdown",
   "metadata": {},
   "source": [
    "## default args for functions"
   ]
  },
  {
   "cell_type": "code",
   "execution_count": null,
   "metadata": {},
   "outputs": [],
   "source": [
    "DEFAULT_WHO_AM_I = \"I don't know\"\n",
    "\n",
    "def who_am_i(who: str = DEFAULT_WHO_AM_I):\n",
    "    return who\n",
    "\n",
    "print(who_am_i())\n",
    "DEFAULT_WHO_AM_I = \"unknown\"\n",
    "print(who_am_i())"
   ]
  },
  {
   "cell_type": "code",
   "execution_count": null,
   "metadata": {},
   "outputs": [],
   "source": [
    "def add_missing_family_member(they: list[str] | None = None):\n",
    "    if they is None:\n",
    "        they = [\"marge\", \"homer\"]\n",
    "    if len(they) < 4:\n",
    "        they.append(\"lisa\")\n",
    "    return they\n",
    "\n",
    "print(add_missing_family_member())\n",
    "print(add_missing_family_member())"
   ]
  },
  {
   "cell_type": "markdown",
   "metadata": {},
   "source": [
    "## .map and .filter\n",
    "\n",
    "The Benign Dictator behind Python doesn’t like map and filter and only reluctantly added them. And it did in such a way to make them quite useless"
   ]
  },
  {
   "cell_type": "code",
   "execution_count": null,
   "metadata": {},
   "outputs": [],
   "source": [
    "mum = {\"name\": \"marge\", \"age\": 34}\n",
    "dad = {\"name\": \"homer\", \"age\": 36}\n",
    "daughter = {\"name\": \"lisa\", \"age\": 8}\n",
    "son = {\"name\": \"bart\", \"age\": 10}\n",
    "simpsons = [mum, dad, daughter, son]\n",
    "\n",
    "just_names = map(lambda person: person[\"name\"], simpsons)\n",
    "print(just_names)\n",
    "print(list(just_names))\n",
    "\n",
    "print()\n",
    "\n",
    "young = filter(lambda person: person[\"age\"] < 18, simpsons)\n",
    "print(young)\n",
    "print(list(young))\n",
    "\n",
    "print()\n",
    "\n",
    "# in TS\n",
    "#\n",
    "# simpsons.filter(person => person.age < 18).map(person => person.name)\n",
    "#\n",
    "wait_what = list(\n",
    "    map(\n",
    "        lambda person: person[\"name\"],\n",
    "        list(filter(lambda person: person[\"age\"] < 18, simpsons)),\n",
    "    )\n",
    ")\n",
    "print(wait_what)\n",
    "\n",
    "print()\n",
    "\n",
    "the_pythonic_way = [\n",
    "    person[\"name\"] for person in [mum, dad, daughter, son] if person[\"age\"] < 18\n",
    "]\n",
    "print(the_pythonic_way)\n"
   ]
  },
  {
   "cell_type": "markdown",
   "metadata": {},
   "source": [
    "## list comprehensions\n",
    "\n",
    "They can get complicated."
   ]
  },
  {
   "cell_type": "code",
   "execution_count": null,
   "metadata": {},
   "outputs": [],
   "source": [
    "mum = {\"name\": \"marge\"}\n",
    "dad = {\"name\": \"homer\"}\n",
    "simpsons = [mum, dad]\n",
    "\n",
    "mum = {\"name\": \"louis\"}\n",
    "dad = {\"name\": \"peter\"}\n",
    "griffins = [mum, dad]\n",
    "\n",
    "[person for family in simpsons + griffins for person in family.values()]\n",
    "\n",
    "# to trick for reading them is to add a new line before each for\n",
    "# [person\n",
    "#     for family in simpsons + griffins\n",
    "#       for person in family.values()\n",
    "#\n",
    "# and then move the top line down\n",
    "#     for family in simpsons + griffins\n",
    "#       for person in family.values()\n",
    "#         person\n"
   ]
  }
 ],
 "metadata": {
  "kernelspec": {
   "display_name": "misc-43zPib8T-py3.12",
   "language": "python",
   "name": "python3"
  },
  "language_info": {
   "codemirror_mode": {
    "name": "ipython",
    "version": 3
   },
   "file_extension": ".py",
   "mimetype": "text/x-python",
   "name": "python",
   "nbconvert_exporter": "python",
   "pygments_lexer": "ipython3",
   "version": "3.12.3"
  }
 },
 "nbformat": 4,
 "nbformat_minor": 2
}
